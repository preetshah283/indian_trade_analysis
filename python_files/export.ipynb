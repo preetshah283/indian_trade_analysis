{
 "cells": [
  {
   "cell_type": "code",
   "execution_count": 2,
   "id": "227b00eb-b815-4648-801b-d1596306ee0e",
   "metadata": {},
   "outputs": [
    {
     "name": "stdout",
     "output_type": "stream",
     "text": [
      "State column added and file saved as 'export_data_with_states.csv'\n"
     ]
    }
   ],
   "source": [
    "import pandas as pd\n",
    "import random\n",
    "\n",
    "# List of states\n",
    "states = ['Kerala', 'Karnataka', 'Maharashtra', 'Goa', 'Gujarat', 'West Bengal', 'Odisha', 'Andhra Pradesh', 'Tamil Nadu']\n",
    "\n",
    "# Load your import dataset\n",
    "# Assuming the file is a CSV and named 'import_data.csv'\n",
    "export_data = pd.read_csv('new_export2.csv')\n",
    "\n",
    "# Add a new column 'State' with random states from the list\n",
    "export_data['State'] = [random.choice(states) for _ in range(len(export_data))]\n",
    "\n",
    "# Save the updated dataset to a new CSV file\n",
    "export_data.to_csv('export_data_with_states.csv', index=False)\n",
    "\n",
    "print(\"State column added and file saved as 'export_data_with_states.csv'\")"
   ]
  },
  {
   "cell_type": "code",
   "execution_count": 3,
   "id": "7998661b-3e40-4ff7-a56c-9c6353538823",
   "metadata": {},
   "outputs": [
    {
     "name": "stdout",
     "output_type": "stream",
     "text": [
      "   HSCode                                          Commodity  value  \\\n",
      "0       2                        MEAT AND EDIBLE MEAT OFFAL.   1.40   \n",
      "1       3  FISH AND CRUSTACEANS, MOLLUSCS AND OTHER AQUAT...   0.08   \n",
      "2       4  DAIRY PRODUCE; BIRDS' EGGS; NATURAL HONEY; EDI...   3.89   \n",
      "3       5  PRODUCTS OF ANIMAL ORIGIN, NOT ELSEWHERE SPECI...   0.00   \n",
      "4       6  LIVE TREES AND OTHER PLANTS; BULBS; ROOTS AND ...   0.00   \n",
      "\n",
      "       country  year        State                Port  \n",
      "0  AFGHANISTAN  2010          Goa       Mormugao Port  \n",
      "1  AFGHANISTAN  2010          Goa       Mormugao Port  \n",
      "2  AFGHANISTAN  2010      Gujarat         Kandla Port  \n",
      "3  AFGHANISTAN  2010  Maharashtra  JNPT (Nhava Sheva)  \n",
      "4  AFGHANISTAN  2010   Tamil Nadu         Ennore Port  \n",
      "Port column added and file saved as 'export_data_with_ports.csv'\n"
     ]
    }
   ],
   "source": [
    "import pandas as pd\n",
    "\n",
    "# Assuming you have a DataFrame 'import_data' with a 'State' column\n",
    "# Create a DataFrame with states and corresponding ports\n",
    "data = {\n",
    "    'State': ['Kerala', 'Karnataka', 'Maharashtra', 'Goa', 'Gujarat', 'West Bengal', 'Odisha', 'Andhra Pradesh', 'Tamil Nadu'],\n",
    "    'Port': ['Cochin Port', 'Mangalore Port', 'JNPT (Nhava Sheva)', 'Mormugao Port', 'Kandla Port', 'Haldia Port', 'Paradip Port', 'Visakhapatnam Port', 'Ennore Port']\n",
    "}\n",
    "\n",
    "ports_df = pd.DataFrame(data)\n",
    "\n",
    "# Load your import_data DataFrame (assuming it has a 'State' column)\n",
    "# Replace this with your actual import_data loading code\n",
    "export_data = pd.read_csv('export_data_with_states.csv')\n",
    "\n",
    "# Merge import_data with ports_df on 'State' column\n",
    "merged_data = pd.merge(export_data, ports_df, on='State', how='left')\n",
    "\n",
    "# Display the merged DataFrame (optional)\n",
    "print(merged_data.head())\n",
    "\n",
    "# Save the merged DataFrame to a new CSV file\n",
    "merged_data.to_csv('export_data_with_ports.csv', index=False)\n",
    "\n",
    "print(\"Port column added and file saved as 'export_data_with_ports.csv'\")"
   ]
  },
  {
   "cell_type": "code",
   "execution_count": 4,
   "id": "94aeeb50-92e1-4f7b-a998-08460a56d84c",
   "metadata": {},
   "outputs": [
    {
     "name": "stdout",
     "output_type": "stream",
     "text": [
      "Section column added, and file saved as 'export_sections.csv'\n"
     ]
    }
   ],
   "source": [
    "import pandas as pd\n",
    "\n",
    "def section_for(hscode):\n",
    "  # chapter = int(hscode[:2])\n",
    "  if hscode <= 5:\n",
    "    return \"I\"\n",
    "  elif hscode <= 14:\n",
    "    return \"II\"\n",
    "  elif hscode == 15:\n",
    "    return \"III\"\n",
    "  elif hscode <= 24:\n",
    "    return \"IV\"\n",
    "  elif hscode <= 27:\n",
    "    return \"V\"\n",
    "  elif hscode <= 38:\n",
    "    return \"VI\"\n",
    "  elif hscode <= 40:\n",
    "    return \"VII\"\n",
    "  elif hscode <= 43:\n",
    "    return \"VIII\"\n",
    "  elif hscode <= 46:\n",
    "    return \"IX\"\n",
    "  elif hscode <= 49:\n",
    "    return \"X\"\n",
    "  elif hscode <= 63:\n",
    "    return \"XI\"\n",
    "  elif hscode <= 67:\n",
    "    return \"XII\"\n",
    "  elif hscode <= 70:\n",
    "    return \"XIII\"\n",
    "  elif hscode == 71:\n",
    "    return \"XIV\"\n",
    "  elif hscode <= 83:\n",
    "    return \"XV\"\n",
    "  elif hscode <= 85:\n",
    "    return \"XVI\"\n",
    "  elif hscode <= 89:\n",
    "    return \"XVII\"\n",
    "  elif hscode <= 92:\n",
    "    return \"XVIII\"\n",
    "  elif hscode == 93:\n",
    "    return \"XIX\"\n",
    "  elif hscode <= 96:\n",
    "    return \"XX\"\n",
    "  elif hscode == 97:\n",
    "    return \"XXI\"\n",
    "  else:\n",
    "    return \"TOTAL\"\n",
    "\n",
    "df = pd.read_csv('export_data_with_ports.csv')\n",
    "df['Section'] = df['HSCode'].apply(section_for)\n",
    "df.to_csv('export_sections.csv', index=False)\n",
    "\n",
    "print(\"Section column added, and file saved as 'export_sections.csv'\")"
   ]
  },
  {
   "cell_type": "code",
   "execution_count": null,
   "id": "0f4080c4-9e0e-484e-b4e3-145a547f3c63",
   "metadata": {},
   "outputs": [],
   "source": []
  }
 ],
 "metadata": {
  "kernelspec": {
   "display_name": "Python 3 (ipykernel)",
   "language": "python",
   "name": "python3"
  },
  "language_info": {
   "codemirror_mode": {
    "name": "ipython",
    "version": 3
   },
   "file_extension": ".py",
   "mimetype": "text/x-python",
   "name": "python",
   "nbconvert_exporter": "python",
   "pygments_lexer": "ipython3",
   "version": "3.12.4"
  }
 },
 "nbformat": 4,
 "nbformat_minor": 5
}
