{
 "cells": [
  {
   "cell_type": "code",
   "execution_count": 6,
   "id": "5d39756e-84dc-46ce-8e39-c45ea087c9cc",
   "metadata": {},
   "outputs": [
    {
     "name": "stdout",
     "output_type": "stream",
     "text": [
      "State column added and file saved as 'import_data_with_states.csv'\n"
     ]
    }
   ],
   "source": [
    "import pandas as pd\n",
    "import random\n",
    "\n",
    "# List of states\n",
    "states = ['Kerala', 'Karnataka', 'Maharashtra', 'Goa', 'Gujarat', 'West Bengal', 'Odisha', 'Andhra Pradesh', 'Tamil Nadu']\n",
    "\n",
    "# Load your import dataset\n",
    "# Assuming the file is a CSV and named 'import_data.csv'\n",
    "import_data = pd.read_csv('new_import.csv')\n",
    "\n",
    "# Add a new column 'State' with random states from the list\n",
    "import_data['State'] = [random.choice(states) for _ in range(len(import_data))]\n",
    "import_data.to_csv('import_data_with_states.csv', index=False)\n",
    "\n",
    "print(\"State column added and file saved as 'import_data_with_states.csv'\")"
   ]
  },
  {
   "cell_type": "code",
   "execution_count": 4,
   "id": "e56e39a2-2032-4eca-87a3-912e45c84344",
   "metadata": {},
   "outputs": [
    {
     "name": "stdout",
     "output_type": "stream",
     "text": [
      "   HSCode                                          Commodity  value  \\\n",
      "0       7    EDIBLE VEGETABLES AND CERTAIN ROOTS AND TUBERS.   9.14   \n",
      "1       8  EDIBLE FRUIT AND NUTS; PEEL OR CITRUS FRUIT OR...  93.82   \n",
      "2       9                      COFFEE, TEA, MATE AND SPICES.   2.54   \n",
      "3      12  OIL SEEDS AND OLEA. FRUITS; MISC. GRAINS, SEED...   0.32   \n",
      "4      13  LAC; GUMS, RESINS AND OTHER VEGETABLE SAPS AND...  37.67   \n",
      "\n",
      "       country  year        State           Port  \n",
      "0  AFGHANISTAN  2010       Odisha   Paradip Port  \n",
      "1  AFGHANISTAN  2010  West Bengal    Haldia Port  \n",
      "2  AFGHANISTAN  2010   Tamil Nadu    Ennore Port  \n",
      "3  AFGHANISTAN  2010  West Bengal    Haldia Port  \n",
      "4  AFGHANISTAN  2010          Goa  Mormugao Port  \n",
      "Port column added and file saved as 'import_data_with_ports.csv'\n"
     ]
    }
   ],
   "source": [
    "import pandas as pd\n",
    "\n",
    "# Assuming you have a DataFrame 'import_data' with a 'State' column\n",
    "# Create a DataFrame with states and corresponding ports\n",
    "data = {\n",
    "    'State': ['Kerala', 'Karnataka', 'Maharashtra', 'Goa', 'Gujarat', 'West Bengal', 'Odisha', 'Andhra Pradesh', 'Tamil Nadu'],\n",
    "    'Port': ['Cochin Port', 'Mangalore Port', 'JNPT (Nhava Sheva)', 'Mormugao Port', 'Kandla Port', 'Haldia Port', 'Paradip Port', 'Visakhapatnam Port', 'Ennore Port']\n",
    "}\n",
    "\n",
    "ports_df = pd.DataFrame(data)\n",
    "\n",
    "# Load your import_data DataFrame (assuming it has a 'State' column)\n",
    "# Replace this with your actual import_data loading code\n",
    "import_data = pd.read_csv('import_data_with_states.csv')\n",
    "\n",
    "# Merge import_data with ports_df on 'State' column\n",
    "merged_data = pd.merge(import_data, ports_df, on='State', how='left')\n",
    "\n",
    "# Display the merged DataFrame (optional)\n",
    "print(merged_data.head())\n",
    "\n",
    "# Save the merged DataFrame to a new CSV file\n",
    "merged_data.to_csv('import_data_with_ports.csv', index=False)\n",
    "\n",
    "print(\"Port column added and file saved as 'import_data_with_ports.csv'\")"
   ]
  },
  {
   "cell_type": "code",
   "execution_count": 16,
   "id": "bf19d40c-d50a-47ae-96ce-7d73ee9f0412",
   "metadata": {},
   "outputs": [
    {
     "name": "stdout",
     "output_type": "stream",
     "text": [
      "State column added and file saved as 'import_month.csv'\n"
     ]
    }
   ],
   "source": [
    "import pandas as pd\n",
    "import random\n",
    "months = ['January', 'February','March','April','May','June','July','August','September','October','November','December']\n",
    "import_data = pd.read_csv('import_data_with_ports.csv')\n",
    "import_data['Month'] = [random.choice(months) for _ in range(len(import_data))]\n",
    "import_data.to_csv('import_month.csv', index=False)\n",
    "print(\"State column added and file saved as 'import_month.csv'\")"
   ]
  },
  {
   "cell_type": "code",
   "execution_count": 17,
   "id": "09699aa3-19bf-4629-9a16-e96c2aae5a46",
   "metadata": {},
   "outputs": [
    {
     "name": "stdout",
     "output_type": "stream",
     "text": [
      "Quarter column added, and file saved as 'import_month_with_quarter.csv'\n"
     ]
    }
   ],
   "source": [
    "import pandas as pd\n",
    "df = pd.read_csv('import_month.csv')\n",
    "month_to_quarter = {\n",
    "    'January': 'Q1',\n",
    "    'February': 'Q1',\n",
    "    'March': 'Q1',\n",
    "    'April': 'Q2',\n",
    "    'May': 'Q2',\n",
    "    'June': 'Q2',\n",
    "    'July': 'Q3',\n",
    "    'August': 'Q3',\n",
    "    'September': 'Q3',\n",
    "    'October': 'Q4',\n",
    "    'November': 'Q4',\n",
    "    'December': 'Q4'\n",
    "}\n",
    "df['quarter'] = df['Month'].map(month_to_quarter)\n",
    "df.to_csv('import_month_with_quarter.csv', index=False)\n",
    "\n",
    "print(\"Quarter column added, and file saved as 'import_month_with_quarter.csv'\")\n"
   ]
  },
  {
   "cell_type": "code",
   "execution_count": null,
   "id": "d1344209-51ba-42bb-ae19-681059b9ef04",
   "metadata": {},
   "outputs": [],
   "source": []
  },
  {
   "cell_type": "code",
   "execution_count": 23,
   "id": "7e8feff5-9467-401a-b372-8a3484ee84f4",
   "metadata": {},
   "outputs": [
    {
     "name": "stdout",
     "output_type": "stream",
     "text": [
      "Section column added, and file saved as 'import_sections.csv'\n"
     ]
    }
   ],
   "source": [
    "import pandas as pd\n",
    "\n",
    "def section_for(hscode):\n",
    "  # chapter = int(hscode[:2])\n",
    "  if hscode <= 5:\n",
    "    return \"I\"\n",
    "  elif hscode <= 14:\n",
    "    return \"II\"\n",
    "  elif hscode == 15:\n",
    "    return \"III\"\n",
    "  elif hscode <= 24:\n",
    "    return \"IV\"\n",
    "  elif hscode <= 27:\n",
    "    return \"V\"\n",
    "  elif hscode <= 38:\n",
    "    return \"VI\"\n",
    "  elif hscode <= 40:\n",
    "    return \"VII\"\n",
    "  elif hscode <= 43:\n",
    "    return \"VIII\"\n",
    "  elif hscode <= 46:\n",
    "    return \"IX\"\n",
    "  elif hscode <= 49:\n",
    "    return \"X\"\n",
    "  elif hscode <= 63:\n",
    "    return \"XI\"\n",
    "  elif hscode <= 67:\n",
    "    return \"XII\"\n",
    "  elif hscode <= 70:\n",
    "    return \"XIII\"\n",
    "  elif hscode == 71:\n",
    "    return \"XIV\"\n",
    "  elif hscode <= 83:\n",
    "    return \"XV\"\n",
    "  elif hscode <= 85:\n",
    "    return \"XVI\"\n",
    "  elif hscode <= 89:\n",
    "    return \"XVII\"\n",
    "  elif hscode <= 92:\n",
    "    return \"XVIII\"\n",
    "  elif hscode == 93:\n",
    "    return \"XIX\"\n",
    "  elif hscode <= 96:\n",
    "    return \"XX\"\n",
    "  elif hscode == 97:\n",
    "    return \"XXI\"\n",
    "  else:\n",
    "    return \"TOTAL\"\n",
    "\n",
    "df = pd.read_csv('import_month_with_quarter.csv')\n",
    "df['Section'] = df['HSCode'].apply(section_for)\n",
    "df.to_csv('import_sections.csv', index=False)\n",
    "\n",
    "print(\"Section column added, and file saved as 'import_sections.csv'\")"
   ]
  },
  {
   "cell_type": "code",
   "execution_count": 1,
   "id": "a1b7d16e-629d-4190-b802-cda90503eba4",
   "metadata": {},
   "outputs": [],
   "source": [
    "# import pandas as pd\n",
    "# df1 = pd.read_csv('import_sections.csv')\n",
    "# df2 = pd.read_csv('export_sections.csv')\n",
    "# df  = pd.merge(df1,df2,on='HSCode')\n",
    "# # df['Trade Balance'] = df2['value']-df1['value']\n",
    "# # df\\\n",
    "# df"
   ]
  },
  {
   "cell_type": "code",
   "execution_count": null,
   "id": "5a22ebe8-42bb-4367-a0e5-1c814af070cc",
   "metadata": {},
   "outputs": [],
   "source": []
  }
 ],
 "metadata": {
  "kernelspec": {
   "display_name": "Python 3 (ipykernel)",
   "language": "python",
   "name": "python3"
  },
  "language_info": {
   "codemirror_mode": {
    "name": "ipython",
    "version": 3
   },
   "file_extension": ".py",
   "mimetype": "text/x-python",
   "name": "python",
   "nbconvert_exporter": "python",
   "pygments_lexer": "ipython3",
   "version": "3.12.4"
  }
 },
 "nbformat": 4,
 "nbformat_minor": 5
}
